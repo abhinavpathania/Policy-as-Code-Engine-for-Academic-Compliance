{
 "cells": [
  {
   "cell_type": "markdown",
   "id": "154b72a4",
   "metadata": {},
   "source": [
    "### Document Structure in Langchain\n",
    "\n",
    "A document in langchain contains:->\n",
    "\n",
    "page_content : \"The content in the document file.\"\n",
    "metadata : \"Data of Data\". (Contains a dict of information about the data)"
   ]
  },
  {
   "cell_type": "code",
   "execution_count": 1,
   "id": "5cfa25fc",
   "metadata": {},
   "outputs": [],
   "source": [
    "from langchain_core.documents import Document"
   ]
  },
  {
   "cell_type": "code",
   "execution_count": 2,
   "id": "55f1502a",
   "metadata": {},
   "outputs": [
    {
     "data": {
      "text/plain": [
       "Document(metadata={'author': 'Abhinav Pathania', 'pages': 1, 'date_created': '06-10-2025'}, page_content='This is the text regarding how a document of a langchain looks like.')"
      ]
     },
     "execution_count": 2,
     "metadata": {},
     "output_type": "execute_result"
    }
   ],
   "source": [
    "doc = Document(\n",
    "    page_content= \"This is the text regarding how a document of a langchain looks like.\",\n",
    "    metadata={\n",
    "        \"author\": \"Abhinav Pathania\",\n",
    "        \"pages\": 1,\n",
    "        \"date_created\": \"06-10-2025\"\n",
    "    }\n",
    ")\n",
    "doc"
   ]
  },
  {
   "cell_type": "markdown",
   "id": "a9dccd2c",
   "metadata": {},
   "source": [
    "### Load the Documents.\n",
    "Any type of documents can be uploaded.\n",
    "\n",
    "* whole dir -> DirectoryLoader\n",
    "* text      -> TextLoader\n",
    "* pdf       -> PyPDFLoader, PyMuPDFLoader \n"
   ]
  },
  {
   "cell_type": "code",
   "execution_count": 19,
   "id": "ef48f80f",
   "metadata": {},
   "outputs": [],
   "source": [
    "from langchain_community.document_loaders import DirectoryLoader\n",
    "from langchain_community.document_loaders import TextLoader\n",
    "from langchain_community.document_loaders import PyPDFLoader, PyMuPDFLoader"
   ]
  },
  {
   "cell_type": "code",
   "execution_count": null,
   "id": "d573a621",
   "metadata": {},
   "outputs": [
    {
     "data": {
      "text/plain": [
       "[Document(metadata={'source': '..\\\\Data\\\\Review\\\\press_release_ugc_net_june_2025.txt'}, page_content='--- Page 1 ---\\nEe asia user vote\\nNational Testing Agency\\n\\n& fisafence sojcret ariter\\nUniversity Grants Commission\\n~ Quality higher education for all\\n\\nerlang\\n\\n(Gar Rien aura, Ran dararg, URa UHR & Ted Up warTA WIS)\\n(An Autonomous Organization under the Department of Higher Education, Ministry of Education, Government of India)\\n\\nPRESS RELEASE\\n21 July 2025\\nSubject: Declaration of results of UGC —NET June 2025 —reg.\\n\\n1. The UGC — NET June 2025 examination was conducted by National Testing Agency for 85\\nsubjects in computer-based test (CBT), mode. The examination was conducted from 25th June\\n2025 to 29th June 2025 in 10 shifts in 285 cities across the country for 10,19,751 candidates.\\n\\n2. The details of registered candidates are as follows:\\n\\nUGC — NET June 2025 Examination (Re\\n\\nad)\\n= EO;RQEST _» \"| POS pO ORGS ee\\n\\n428,853 42.05:\\n\\nTotal Registered Candidates\\n\\nUGC — NET June 2025 Examination (Appeared)\\nMale 3,068,122 40.574%\\n\\nThird gender\\n\\nTotal Appeared Candidates ee AL\\n\\niL |\\n\\n8. The Provisional Answer Key(s) and Recorded Responses of the concerned candidates for UGC —\\nNET June 2025 Examination were hosted on the NTA website https‘//ugenet.nta.ac.in/ from 06% July\\n2025 to 08th July 2025 (upto 05:00 P.M.) to invite challenges. Challenges received were verified by\\nthe experts and results were processed as per the answer keys finalized by experts.\\n\\nThe result of UGC-NET June 2025 examination is being declared today i.e. 21.07.2025.\\n5. Result at a Glance is as follows:\\n\\nNumber of candidates registered 10,19,751\\nNumber of candidates appeared 7,52,007\\nCandidates qualified for JRF and Assistant Professor 5,269\\nCandidates qualified for Assistant Professor and Admission to Ph. D 54,885\\nCandidates qualified for Ph.D. only 1,28,179\\n\\n6. Important Note:\\n\\na. The eligibility criteria, self-declaration, various documents, etc. of the eligible candidates shall\\nbe verified as per norms specified in the information bulletin of UGC — NET June 2025. NTA\\ndoes not take any responsibility towards correctness/genuineness of the uploaded\\ninformation/documents during the registration process by the candidates.\\n\\nb. The results of the UGC — NET June 2025 is available on the website https‘//ugcnet.nta.ac.in/.\\nCandidates can login to the website and view/download/print their score card.\\n\\nAtal\\n\\nDirector (Exams), NTA\\n\\nqanwondae First Floor, NSIC-MDBP Building, Okhla Industrial Estate, New Delhi -110020 YEARS OF\\nfhe MANA HA\\n\\n. . tIH/Telephone: 011-40759000 daeIsc/Website: https://ugcnet.nta.ac.in, $-Aa/e-mail: ugcnet@nta.ac.in\\nU. prefer - axe weiten-1, ferT ax 6, Gad afore, ones, GRA, AE fErefl-110066. / Reg. Office: West Block-1, Wing No. 6, 2nd Floor, R.K, Puram, New Delhi-110066.'),\n",
       " Document(metadata={'source': '..\\\\Data\\\\Review\\\\public-notice-issuance-certificate-june-2025.txt'}, page_content='--- Page 1 ---\\nfooattencr soporte anita\\n\\nUniversity Grants Commission\\nweitere QUality higher education for all\\n\\n[? usa ule valet\\n7] National Testing Agency\\n\\n(Sara Rian fours, Ran Hare, une Ma & Ged UH aR BOA)\\n\\n(An Autonomous Organization under the Department of Higher Education, Ministry of Education, Government of India)\\n\\nPUBLIC NOTICE\\n12 September 2025\\n\\nSubject: Issuance of Certificates for UGC - NET June -2025. - reg.\\n\\nThe National Testing Agency (NTA) conducted UGC - NET June 2025 examination\\nfrom 25 June 2025 to 29th June 2025 for the following:\\ni. Award of Junior Research Fellowship and appointment as Assistant Professor.\\nii. Appointment as Assistant Professor and admission to Ph.D.\\niii. Admission to Ph.D. only.\\n\\nThe result of UGC - NET June 2025 were declared on 21 July 2025.\\n\\nThe certificates of UGC - NET June 2025 are now available on NTA\\nwebsite: https: / /ugcnet.nta.ac.in.\\n\\nIn case any candidate faces difficulty in downloading the certificate,\\nhe/she can mail at ugcnet@nta.ac.in or ecertificate@nta.ac.in For more updates\\nor latest news keep visiting the Official website of NTA\\n\\nhttps://ugenet.nta.ac.in.\\n\\nFirst Floor, NSIC-MDBP Building, Okhla Industrial Estate, New Delhi -110020 i YEARS OF |\\n\\nTHE MAHATMA\\n\\n—\\n\\nspre reo oe\\n\\n]IH/Telephone: 011-40759000 ‘daa1SC/ Website: https://ugcnet.nta.ac.in, $-8t1/e-mail: ugcnet@nta.ac.in\\nUO arafey - ae eetles-1, fo Haz 6, GAN Hifsia, ones. GRA, Ag faeeft-110066. / Reg. Office: West Block-1, Wing No. 6, 2nd Floor, R.K. Puram, New Delhi-110066.')]"
      ]
     },
     "execution_count": 11,
     "metadata": {},
     "output_type": "execute_result"
    }
   ],
   "source": [
    "dir_text_loader=DirectoryLoader(\n",
    "    \"../Data/Review\",\n",
    "    glob=\"**/*.txt\", #pattern to match\n",
    "    loader_cls=TextLoader, ##loader_class is text here\n",
    "    loader_kwargs={'encoding':'utf-8'}\n",
    ")\n",
    "\n",
    "Text_documents=dir_text_loader\n",
    "Text_documents.load()"
   ]
  },
  {
   "cell_type": "code",
   "execution_count": 20,
   "id": "3372d2e5",
   "metadata": {},
   "outputs": [
    {
     "data": {
      "text/plain": [
       "[Document(metadata={'producer': '', 'creator': '', 'creationdate': '2025-07-21T20:40:53+08:00', 'source': '..\\\\Data\\\\press_release_ugc_net_june_2025.pdf', 'file_path': '..\\\\Data\\\\press_release_ugc_net_june_2025.pdf', 'total_pages': 1, 'format': 'PDF 1.4', 'title': '', 'author': '', 'subject': '', 'keywords': '', 'moddate': '', 'trapped': '', 'modDate': '', 'creationDate': \"D:20250721204053+08'00'\", 'page': 0}, page_content=''),\n",
       " Document(metadata={'producer': '', 'creator': '', 'creationdate': '2025-09-12T14:20:29+08:00', 'source': '..\\\\Data\\\\public-notice-issuance-certificate-june-2025.pdf', 'file_path': '..\\\\Data\\\\public-notice-issuance-certificate-june-2025.pdf', 'total_pages': 1, 'format': 'PDF 1.4', 'title': '', 'author': '', 'subject': '', 'keywords': '', 'moddate': '', 'trapped': '', 'modDate': '', 'creationDate': \"D:20250912142029+08'00'\", 'page': 0}, page_content='')]"
      ]
     },
     "execution_count": 20,
     "metadata": {},
     "output_type": "execute_result"
    }
   ],
   "source": [
    "dir_pdf_loader=DirectoryLoader(\n",
    "    \"../Data\",\n",
    "    glob=\"**/*.pdf\",\n",
    "    loader_cls=PyMuPDFLoader\n",
    ")\n",
    "\n",
    "Pdf_documents=dir_pdf_loader\n",
    "Pdf_documents.load()"
   ]
  },
  {
   "cell_type": "markdown",
   "id": "c9f394ac",
   "metadata": {},
   "source": [
    "Here when the scanned Documents are added to Pdfloader they provide page_content as empty. \n",
    "\n",
    "So conversion of pdf to text is required."
   ]
  }
 ],
 "metadata": {
  "kernelspec": {
   "display_name": "RAG_Virtual_env",
   "language": "python",
   "name": "python3"
  },
  "language_info": {
   "codemirror_mode": {
    "name": "ipython",
    "version": 3
   },
   "file_extension": ".py",
   "mimetype": "text/x-python",
   "name": "python",
   "nbconvert_exporter": "python",
   "pygments_lexer": "ipython3",
   "version": "3.13.2"
  }
 },
 "nbformat": 4,
 "nbformat_minor": 5
}
