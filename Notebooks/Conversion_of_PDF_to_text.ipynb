{
 "cells": [
  {
   "cell_type": "markdown",
   "id": "6f42b552",
   "metadata": {},
   "source": [
    "#### This Notebook takes input directory contaning scanned copies of the pdf and convert them to .txt format."
   ]
  },
  {
   "cell_type": "markdown",
   "id": "685d422d",
   "metadata": {},
   "source": [
    "## Conversion of pdf to text"
   ]
  },
  {
   "cell_type": "code",
   "execution_count": 1,
   "id": "aa44880a",
   "metadata": {},
   "outputs": [],
   "source": [
    "from pdf2image import convert_from_path\n",
    "from PIL import Image\n",
    "import pytesseract\n",
    "import os\n",
    "\n",
    "def pdf_to_text(pdf_path):\n",
    "    images = convert_from_path(pdf_path)\n",
    "    text_all = []\n",
    "    for i, img in enumerate(images):\n",
    "        text = pytesseract.image_to_string(img)\n",
    "        text_all.append(f\"--- Page {i+1} ---\\n{text.strip()}\")\n",
    "    return \"\\n\".join(text_all)\n"
   ]
  },
  {
   "cell_type": "code",
   "execution_count": 2,
   "id": "0fa9178e",
   "metadata": {},
   "outputs": [],
   "source": [
    "def process_pdfs_in_directory(input_dir, output_dir):\n",
    "    # Ensure output directory exists\n",
    "    os.makedirs(output_dir, exist_ok=True)\n",
    "\n",
    "    # List PDF files in input directory\n",
    "    for filename in os.listdir(input_dir):\n",
    "        if filename.lower().endswith(\".pdf\"):\n",
    "            pdf_path = os.path.join(input_dir, filename)\n",
    "            print(f\"Processing: {pdf_path}\")\n",
    "            try:\n",
    "                text = pdf_to_text(pdf_path)\n",
    "\n",
    "                # Build output text file path with original base name\n",
    "                base_name = os.path.splitext(filename)[0]\n",
    "                output_file_path = os.path.join(output_dir, base_name + \".txt\")\n",
    "\n",
    "                with open(output_file_path, \"w\", encoding=\"utf-8\") as f:\n",
    "                    f.write(text)\n",
    "                print(f\"Saved text to: {output_file_path}\")\n",
    "            except Exception as e:\n",
    "                print(f\"Failed to process {filename}: {e}\")"
   ]
  },
  {
   "cell_type": "markdown",
   "id": "ea889300",
   "metadata": {},
   "source": [
    "#### Path of the directories"
   ]
  },
  {
   "cell_type": "code",
   "execution_count": 3,
   "id": "5a088dc0",
   "metadata": {},
   "outputs": [
    {
     "name": "stdout",
     "output_type": "stream",
     "text": [
      "Processing: ../Data\\press_release_ugc_net_june_2025.pdf\n",
      "Saved text to: ../Data/Review\\press_release_ugc_net_june_2025.txt\n",
      "Processing: ../Data\\public-notice-issuance-certificate-june-2025.pdf\n",
      "Saved text to: ../Data/Review\\public-notice-issuance-certificate-june-2025.txt\n"
     ]
    }
   ],
   "source": [
    "input_directory = \"../Data\"\n",
    "output_directory = \"../Data/Review\"\n",
    "\n",
    "process_pdfs_in_directory(input_directory, output_directory)"
   ]
  }
 ],
 "metadata": {
  "kernelspec": {
   "display_name": "RAG_Virtual_env",
   "language": "python",
   "name": "python3"
  },
  "language_info": {
   "codemirror_mode": {
    "name": "ipython",
    "version": 3
   },
   "file_extension": ".py",
   "mimetype": "text/x-python",
   "name": "python",
   "nbconvert_exporter": "python",
   "pygments_lexer": "ipython3",
   "version": "3.13.2"
  }
 },
 "nbformat": 4,
 "nbformat_minor": 5
}
