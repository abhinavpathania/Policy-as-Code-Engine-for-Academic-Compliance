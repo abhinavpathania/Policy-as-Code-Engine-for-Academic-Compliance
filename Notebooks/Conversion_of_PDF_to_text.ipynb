{
 "cells": [
  {
   "cell_type": "markdown",
   "id": "685d422d",
   "metadata": {},
   "source": [
    "## Conversion of pdf to text"
   ]
  },
  {
   "cell_type": "code",
   "execution_count": null,
   "id": "aa44880a",
   "metadata": {},
   "outputs": [],
   "source": [
    "from pdf2image import convert_from_path\n",
    "from PIL import Image\n",
    "import pytesseract\n",
    "\n",
    "def pdf_to_text(pdf_path):\n",
    "    images = convert_from_path(pdf_path)\n",
    "    text_all = []\n",
    "    for i, img in enumerate(images):\n",
    "        text = pytesseract.image_to_string(img)\n",
    "        text_all.append(f\"--- Page {i+1} ---\\n{text.strip()}\")\n",
    "    return \"\\n\".join(text_all)\n"
   ]
  },
  {
   "cell_type": "markdown",
   "id": "ea889300",
   "metadata": {},
   "source": [
    "#### Path of the pdf file"
   ]
  },
  {
   "cell_type": "code",
   "execution_count": null,
   "id": "5a088dc0",
   "metadata": {},
   "outputs": [],
   "source": [
    "pdf_path = \"../Data/public-notice-issuance-certificate-june-2025.pdf\"\n",
    "text = pdf_to_text(pdf_path)"
   ]
  },
  {
   "cell_type": "markdown",
   "id": "c8b09afb",
   "metadata": {},
   "source": [
    "#### Save the resultant of the pdf file in a text document"
   ]
  },
  {
   "cell_type": "code",
   "execution_count": null,
   "id": "b5cafa28",
   "metadata": {},
   "outputs": [],
   "source": [
    "import os\n",
    "\n",
    "folder = \"../Data/Review\"\n",
    "file_path = os.path.join(folder, \"output_text.txt\")\n",
    "\n",
    "os.makedirs(folder, exist_ok=True)\n",
    "\n",
    "with open(file_path, \"w\", encoding=\"utf-8\") as f:\n",
    "    f.write(text)\n"
   ]
  }
 ],
 "metadata": {
  "language_info": {
   "name": "python"
  }
 },
 "nbformat": 4,
 "nbformat_minor": 5
}
